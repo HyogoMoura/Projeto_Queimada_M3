{
 "cells": [
  {
   "cell_type": "markdown",
   "metadata": {},
   "source": [
    "# Relatório do projeto"
   ]
  },
  {
   "cell_type": "markdown",
   "metadata": {},
   "source": [
    "## 1. Fonte dos Dados"
   ]
  },
  {
   "cell_type": "markdown",
   "metadata": {},
   "source": [
    "Fonte de Dados: Programa Queimadas do INPE\n",
    "<br>\n",
    "https://terrabrasilis.dpi.inpe.br/queimadas/portal/\n",
    "<br>\n",
    "Disponível em: https://dataserver-coids.inpe.br/queimadas/queimadas/focos/csv/mensal/"
   ]
  },
  {
   "cell_type": "markdown",
   "metadata": {},
   "source": [
    "## 2. Base de Dados utilizadas"
   ]
  },
  {
   "cell_type": "markdown",
   "metadata": {},
   "source": [
    "`Demonstração da base inicial dos 6 primeiros meses de 2024: `\n",
    "|id|lat|lon|data_hora_gmt|satelite|municipio|estado|pais|municipio_id|estado_id|pais_id|numero_dias_sem_chuva|precipitacao|risco_fogo|bioma|frp|\n",
    "|---|---|---|---|---|---|---|---|---|---|---|---|---|---|---|---|\n",
    "|966ed445-fa70-3369-9802-3e74c5765684|-12.5667|-41.4364|2024-01-01 00:06:16|GOES-16|LENÇÓIS|BAHIA|Brasil|2919306|29|33|8|1.38|0.70|Caatinga|76.5|\n",
    "|0669c14d-7a39-3d98-9f20-23e118fbcf09|-12.5662|-41.4611|2024-01-01 00:06:16|GOES-16|LENÇÓIS|BAHIA|Brasil|2919306|29|33|9|1.73|0.83|Caatinga|81.4|\n",
    "|53a46800-fa40-3323-9b20-05108d435c24|-18.0629|-57.3721|2024-01-01 00:06:48|GOES-16|CORUMBÁ|MATO GROSSO DO SUL|Brasil|5003207|50|33|0|14.42|0.00|Pantanal|59.8|\n",
    "|d0af560b-c440-3554-a5c6-83fb055304e8|-18.0823|-57.3902|2024-01-01 00:06:48|GOES-16|CORUMBÁ|MATO GROSSO DO SUL|Brasil|5003207|50|33|0|12.93|-999.00|Pantanal|63.4|\n",
    "|b509b339-729d-3a30-a7d9-8a6a33398a4f|-18.0823|-57.3902|2024-01-01 00:16:48|GOES-16|CORUMBÁ|MATO GROSSO DO SUL|Brasil|5003207|50|33|0|12.93|-999.00|Pantanal|64|\n",
    "\n",
    "`Quantidade de linhas e colunas:`\n",
    "|Quantidade de linhas|Quantidade de Colunas|\n",
    "|---|---|\n",
    "|983232|16|\n"
   ]
  },
  {
   "cell_type": "markdown",
   "metadata": {},
   "source": [
    "## 3. Dicionário de dados\n"
   ]
  },
  {
   "cell_type": "markdown",
   "metadata": {},
   "source": [
    "|Variável|Definição|Tipo do Dado|Observação|Quantidade de nulos|\n",
    "|---|---|---|---|---|\n",
    "|id|Identificador|Texto (string)|-|0|\n",
    "|lat|Latitude|Númerico (inteiro)|-|0|\n",
    "|lon|Longitude|Númerico (inteiro)|-|0|\n",
    "|data_hora_gmt|Data e Hora GMT(Greenwich Mean Time)|Texto (string)|-|0|\n",
    "|satelite|Nome do satélite|Texto (string)|-|0|\n",
    "|municipio|Nome do município|Texto (string)|-|0|\n",
    "|estado|Nome do estado|Texto (string)|-|0|\n",
    "|pais|Nome do país|Texto (string)|-|0|\n",
    "|municipio_id|Identificador do município|Númerico (inteiro)|-|0|\n",
    "|estado_id|Identificador do estado|Númerico (inteiro)|-|0|\n",
    "|pais_id|Identificador do país|Númerico (inteiro)|-|0|\n",
    "|numero_dias_sem_chuva|Quantidade de dias sem chuva|Númerico (inteiro)|Valores negativos são medições incorretas|0|\n",
    "|precipitacao|Volume de precipitação aculumada (mm)|Numérico (decimal)|-|0|\n",
    "|risco_fogo|Risco de fogo no local|Numérico(decimal)|Valores válidos: 0 a 1. Valores inválidos: -999|0|\n",
    "|bioma|Bioma do local|Texto (string)|-|1|\n",
    "|frp|Fire Radiative Power ou Potência Radiativa do Fogo|Texto (string)|-|31825|\n"
   ]
  },
  {
   "cell_type": "markdown",
   "metadata": {},
   "source": [
    "## 4. Tratamento dos dados\n"
   ]
  },
  {
   "cell_type": "markdown",
   "metadata": {},
   "source": [
    "`Eliminação de Colunas:`\n",
    "|Coluna|Motivo|\n",
    "|---|---|\n",
    "|id|Usado apenas para identificação única de cada foco de queimada. Não necessária na análise|\n",
    "|municipio_id|Usado apenas para identificação única do município. Já há uma coluna com o nome do município|\n",
    "|estado_id|Usado apenas para identificação única do estado. Já há uma coluna com o nome do estado|\n",
    "|pais_id|Usado apenas para identificação única do pais. Já há uma coluna com o nome do pais|\n",
    "|pais|Toda a base de dados é relacionada ao Brasil|\n",
    "|frp|Análise muito complexa com muitos dados faltantes. Não foi feita nenhuma análise dessa coluna|\n",
    "\n",
    "`Eliminação de espaços desnecessários:`\n",
    "- Nos nomes das colunas\n",
    "- Nos textos de cada célula de dados\n",
    "\n",
    "`Alteração nos nomes das colunas:`\n",
    "|Nome antigo|Novo nome|\n",
    "|---|---|\n",
    "|lat|latitude|\n",
    "|lon|longitude|\n",
    "\n",
    "`Exclusão de Dados incoerentes:`\n",
    "|Coluna|Valores excluídos|Motivo da exclusão|\n",
    "|---|---|---|\n",
    "|risco_fogo|-999|Valor inválido relativo a locais impossíveis de pegar fogo|\n",
    "|numero_dias_sem_chuva|Valores negativos|Marcação incoerente. Não existe a possibilidade de dias de chuva negativo|\n",
    "\n",
    "`Criação de novas colunas:`\n",
    "|Coluna|Motivo da criação|\n",
    "|---|---|\n",
    "|regiao|Agrupamento dos estados para análise em regiões|\n",
    "|mes|Para análise mensal dos dados|\n",
    "\n",
    "`Alteração do tipo de dado: `\n",
    "|Coluna|Tipo inicial do dado|Tipo após alteração|\n",
    "|---|---|---|\n",
    "|data_hora_gmt|Texto (string)|Data (datetime)|\n",
    "\n"
   ]
  },
  {
   "cell_type": "markdown",
   "metadata": {},
   "source": [
    "## 5. Resultado Final após o Tratamento dos Dados"
   ]
  },
  {
   "cell_type": "markdown",
   "metadata": {},
   "source": [
    "|Variável|Definição|Tipo do Dado|Quantidade de nulos|\n",
    "|---|---|---|---|\n",
    "|latitude|Latitude|Númerico (inteiro)|0|\n",
    "|longitude|Longitude|Númerico (inteiro)|0|\n",
    "|data_hora_gmt|Data e Hora GMT(Greenwich Mean Time)|Data (datetime)|0|\n",
    "|satelite|Nome do satélite|Texto (string)|0|\n",
    "|municipio|Nome do município|Texto (string)|0|\n",
    "|estado|Nome do estado|Texto (string)|0|\n",
    "|numero_dias_sem_chuva|Quantidade de dias sem chuva|Númerico (inteiro)|0|\n",
    "|precipitacao|Volume de precipitação aculumada (mm)|Numérico (decimal)|0|\n",
    "|risco_fogo|Risco de fogo no local|Numérico(decimal)|0|\n",
    "|bioma|Bioma do local|Texto (string)|0|\n",
    "|regiao|Região brasileira que o estado pertence|Texto(string)|0|\n",
    "|mes|Mês do foco da queimada|Numérico (inteiro)|0|\n",
    "\n",
    "`Quantidade de linhas e colunas:`\n",
    "|Quantidade de linhas|Quantidade de Colunas|\n",
    "|---|---|\n",
    "|890356|12|\n"
   ]
  }
 ],
 "metadata": {
  "kernelspec": {
   "display_name": "Python 3",
   "language": "python",
   "name": "python3"
  },
  "language_info": {
   "codemirror_mode": {
    "name": "ipython",
    "version": 3
   },
   "file_extension": ".py",
   "mimetype": "text/x-python",
   "name": "python",
   "nbconvert_exporter": "python",
   "pygments_lexer": "ipython3",
   "version": "3.11.5"
  },
  "toc-autonumbering": false,
  "toc-showcode": true
 },
 "nbformat": 4,
 "nbformat_minor": 4
}
