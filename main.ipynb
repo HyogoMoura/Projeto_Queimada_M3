{
 "cells": [
  {
   "cell_type": "markdown",
   "metadata": {},
   "source": [
    "# **Programa Principal**"
   ]
  },
  {
   "cell_type": "code",
   "execution_count": null,
   "metadata": {},
   "outputs": [],
   "source": [
    "#!pip install pandas -q\n",
    "#!pip install matplotlib -q\n",
    "#!pip install seaborn -q\n",
    "#!pip install db-sqlite3 -q\n",
    "#!pip install SQLAlchemy -q\n",
    "#!pip install requests -q\n",
    "#!pip install folium\n",
    "#!pip install seaborn\n",
    "\n"
   ]
  },
  {
   "cell_type": "markdown",
   "metadata": {},
   "source": [
    "## 1) Bibliotecas"
   ]
  },
  {
   "cell_type": "code",
   "execution_count": 34,
   "metadata": {},
   "outputs": [],
   "source": [
    "import pandas as pd\n",
    "import numpy as np\n",
    "import folium\n",
    "import matplotlib.pyplot as plt\n",
    "import matplotlib.ticker as mticker\n",
    "import seaborn as sns\n",
    "import os"
   ]
  },
  {
   "cell_type": "markdown",
   "metadata": {},
   "source": [
    "## 2) Extração de dados"
   ]
  },
  {
   "cell_type": "code",
   "execution_count": 5,
   "metadata": {},
   "outputs": [],
   "source": [
    "df_janeiro = pd.read_csv('./dados/focos_mensal_br_202401.csv')\n",
    "df_fevereiro = pd.read_csv('./dados/focos_mensal_br_202402.csv')\n",
    "df_marco = pd.read_csv('./dados/focos_mensal_br_202403.csv')\n",
    "df_abril = pd.read_csv('./dados/focos_mensal_br_202404.csv')\n",
    "df_maio = pd.read_csv('./dados/focos_mensal_br_202405.csv')\n",
    "df_junho = pd.read_csv('./dados/focos_mensal_br_202406.csv')"
   ]
  },
  {
   "cell_type": "code",
   "execution_count": null,
   "metadata": {},
   "outputs": [],
   "source": [
    "#setando o caminho + arquivos que serão concatenados\n",
    "path = 'dados/focos_mensal_br_2024'\n",
    "\n",
    "#concatenar os arquivos csv com o nome igual ao setado em \"path\"\n",
    "df_brasil_2024 = pd.concat([pd.read_csv(f\"{path}{mes:02}.csv\") for mes in range(1,7)])\n",
    "\n",
    "#exibir a tabela concatenada\n",
    "df_brasil_2024"
   ]
  },
  {
   "cell_type": "code",
   "execution_count": null,
   "metadata": {},
   "outputs": [],
   "source": [
    "#mostrar quantidade de celulas x colunas\n",
    "df_brasil_2024.shape"
   ]
  },
  {
   "cell_type": "code",
   "execution_count": null,
   "metadata": {},
   "outputs": [],
   "source": [
    "#descrever \n",
    "df_brasil_2024.describe()"
   ]
  },
  {
   "cell_type": "markdown",
   "metadata": {},
   "source": [
    "### 2.1. Queimadas 2023"
   ]
  },
  {
   "cell_type": "markdown",
   "metadata": {},
   "source": [
    "`Tratamento dos nomes das Colunas`"
   ]
  },
  {
   "cell_type": "code",
   "execution_count": null,
   "metadata": {},
   "outputs": [],
   "source": [
    "#exibir nome das colunas\n",
    "df_brasil_2024.columns"
   ]
  },
  {
   "cell_type": "code",
   "execution_count": 10,
   "metadata": {},
   "outputs": [],
   "source": [
    "#renomear colunas\n",
    "df_brasil_2024.rename(columns={'lat': 'latitude', 'lon': 'longitude'}, inplace=True)"
   ]
  },
  {
   "cell_type": "markdown",
   "metadata": {},
   "source": [
    "`Tratamento de Null`"
   ]
  },
  {
   "cell_type": "code",
   "execution_count": null,
   "metadata": {},
   "outputs": [],
   "source": [
    "#verificando quais colunas possuem valores nulos\n",
    "df_brasil_2024.isnull().sum()"
   ]
  },
  {
   "cell_type": "code",
   "execution_count": null,
   "metadata": {},
   "outputs": [],
   "source": [
    "df_brasil_2024.fillna('Desconhecido')"
   ]
  },
  {
   "cell_type": "code",
   "execution_count": null,
   "metadata": {},
   "outputs": [],
   "source": [
    "#remover espaços em branco dos nomes das colunas\n",
    "\n",
    "df_brasil_2024.columns = df_brasil_2024.columns.str.strip()\n",
    "\n",
    "#remover espaços em branco dos dados das células\n",
    "\n",
    "df_brasil_2024 = df_brasil_2024.apply(lambda x: x.str.strip() if x.dtype == \"object\" else x)\n",
    "\n",
    "df_brasil_2024"
   ]
  },
  {
   "cell_type": "markdown",
   "metadata": {},
   "source": [
    "`Exclusão de colunas não utilizadas`"
   ]
  },
  {
   "cell_type": "code",
   "execution_count": 14,
   "metadata": {},
   "outputs": [],
   "source": [
    "#removendo colunas\n",
    "df_brasil_2024.drop('frp', axis=1, inplace=True)\n",
    "df_brasil_2024.drop('id', axis=1, inplace=True)\n",
    "df_brasil_2024.drop('pais', axis=1, inplace=True)\n",
    "df_brasil_2024.drop('municipio_id', axis=1, inplace=True)\n",
    "df_brasil_2024.drop('estado_id', axis=1, inplace=True)\n",
    "df_brasil_2024.drop('pais_id', axis=1, inplace=True)"
   ]
  },
  {
   "cell_type": "markdown",
   "metadata": {},
   "source": [
    "`Exclusão de Dados incoerentes`"
   ]
  },
  {
   "cell_type": "markdown",
   "metadata": {},
   "source": [
    "\"Nos downloads de focos do BDQ-Banco de Dados de Queimadas, o atributo \"RiscoFogo\" dos focos é o valor do Risco de Fogo previsto para o mesmo dia da ocorrência do foco, segundo o método de cálculo descrito em: Método do Cálculo do Risco de Fogo do Programa do INPE. Neste documento você vai notar que os valores são válidos de 0 a 1 e, o número -999 representa valor inválido, normalmente relacionado como área urbana ou corpos d'água, onde não faz sentido calcular o Riso de Fogo.\"\n",
    "Disponível em: <https://terrabrasilis.dpi.inpe.br/queimadas/portal/faq/index.html> Pergunta 43"
   ]
  },
  {
   "cell_type": "code",
   "execution_count": 48,
   "metadata": {},
   "outputs": [],
   "source": [
    "df_brasil_2024.query('risco_fogo != -999', inplace=True)\n",
    "df_brasil_2024.query('numero_dias_sem_chuva > 0', inplace=True)\n"
   ]
  },
  {
   "cell_type": "markdown",
   "metadata": {},
   "source": [
    "## 3) Gráficos"
   ]
  },
  {
   "cell_type": "markdown",
   "metadata": {},
   "source": [
    "### 3.1. Mapa de calor (Heatmap) de Risco de Fogo"
   ]
  },
  {
   "cell_type": "code",
   "execution_count": 16,
   "metadata": {},
   "outputs": [],
   "source": [
    "#Diogo\n",
    "Risk_of_Fire=df_brasil_2024.sort_values(by='risco_fogo',ascending=False)\n",
    "new_set = Risk_of_Fire.head(25)"
   ]
  },
  {
   "cell_type": "code",
   "execution_count": 17,
   "metadata": {},
   "outputs": [
    {
     "name": "stdout",
     "output_type": "stream",
     "text": [
      "[[-11.2401, -44.4728], [-11.9124, -45.4149], [-10.7614, -49.5223], [-18.4195, -49.6013]]\n",
      "[['SANTA RITA DE CÁSSIA'], ['BARREIRAS'], ['LAGOA DA CONFUSÃO'], ['ITUMBIARA']]\n"
     ]
    }
   ],
   "source": [
    "#Trasforma valores do dataframe para lista\n",
    "coordenadas_fogo = new_set[['latitude', 'longitude']].values.tolist()\n",
    "municipios = new_set[['municipio']].values.tolist()\n",
    "print(coordenadas_fogo[0:4])\n",
    "print(municipios[0:4])"
   ]
  },
  {
   "cell_type": "code",
   "execution_count": null,
   "metadata": {},
   "outputs": [],
   "source": [
    "#Definição de ponto central folium\n",
    "F_Mapa = folium.Map([-15.797515,-47.891887],zoom_start=5,control_scale=True)\n",
    "\n",
    "#Plotagem de marcadores no mapa\n",
    "for i in range(len(coordenadas_fogo)):\n",
    "    pontos = coordenadas_fogo[i]\n",
    "    cid = municipios[i]\n",
    "    folium.Marker(pontos, popup=cid).add_to(F_Mapa)\n",
    "F_Mapa\n",
    "\n"
   ]
  },
  {
   "cell_type": "markdown",
   "metadata": {},
   "source": [
    "### 3.2. Mapa de precipitação"
   ]
  },
  {
   "cell_type": "code",
   "execution_count": 19,
   "metadata": {},
   "outputs": [],
   "source": [
    "#Diogo\n",
    "precipitation_set=df_brasil_2024.sort_values(by='precipitacao',ascending=False)\n",
    "p_new_set = precipitation_set.head(25)"
   ]
  },
  {
   "cell_type": "code",
   "execution_count": 20,
   "metadata": {},
   "outputs": [
    {
     "name": "stdout",
     "output_type": "stream",
     "text": [
      "[[-29.50417, -52.48787], [-28.55103, -55.36242], [0.3826, -60.5695], [0.3806, -60.578098]]\n",
      "[['SINIMBU'], ['SANTO ANTÔNIO DAS MISSÕES'], ['RORAINÓPOLIS'], ['RORAINÓPOLIS']]\n",
      "[[252.98], [230.9], [157.24], [156.32]]\n"
     ]
    }
   ],
   "source": [
    "#Trasforma valores do dataframe para lista\n",
    "coordenadas_agua = p_new_set[['latitude', 'longitude']].values.tolist()\n",
    "municipios = p_new_set[['municipio']].values.tolist()\n",
    "chuva = p_new_set[['precipitacao']].values.tolist()\n",
    "print(coordenadas_agua[0:4])\n",
    "print(municipios[0:4])\n",
    "print(chuva[0:4])"
   ]
  },
  {
   "cell_type": "code",
   "execution_count": null,
   "metadata": {},
   "outputs": [],
   "source": [
    "#Definição de ponto central\n",
    "P_Mapa = folium.Map([-15.797515,-47.891887],zoom_start=5,control_scale=True)\n",
    "\n",
    "#Plotagem de marcadores no mapa\n",
    "for i in range(len(coordenadas_agua)):\n",
    "    pontos = coordenadas_agua[i]\n",
    "    cid = municipios[i]\n",
    "    agua = chuva[i]\n",
    "    folium.Marker(pontos, popup=(cid,agua)).add_to(P_Mapa)\n",
    "P_Mapa"
   ]
  },
  {
   "cell_type": "markdown",
   "metadata": {},
   "source": [
    "### 3.3. Gráfico de Linha para Número de Dias sem Chuva"
   ]
  },
  {
   "cell_type": "code",
   "execution_count": null,
   "metadata": {},
   "outputs": [],
   "source": [
    "#filtrar apenas os dias com resultados positivos\n",
    "df_filtrado = df_brasil_2024[df_brasil_2024['numero_dias_sem_chuva'] >= 0]\n",
    "\n",
    "#agrupar por estado e tirar a média dos dias\n",
    "df_agrupado = df_filtrado.groupby('estado')['numero_dias_sem_chuva'].mean().reset_index()\n",
    "\n",
    "#plotar o gráfico\n",
    "plt.figure(figsize=(20, 6))\n",
    "plt.plot(df_agrupado['estado'], df_agrupado['numero_dias_sem_chuva'], marker='o')\n",
    "\n",
    "#adicionar um titulo e os rótulos, além de nomear\n",
    "plt.title('Média de Dias Sem Chuva por Estado')\n",
    "plt.xlabel('Estado')\n",
    "plt.ylabel('Média de Dias Sem Chuva')\n",
    "\n",
    "#deixar os rótulos na diagonal\n",
    "plt.xticks(rotation=45)\n",
    "\n",
    "#ajustar o layout\n",
    "plt.tight_layout()\n",
    "plt.show()\n"
   ]
  },
  {
   "cell_type": "markdown",
   "metadata": {},
   "source": [
    "### 3.4. Gráfico de Dispersão (Scatter Plot)"
   ]
  },
  {
   "cell_type": "code",
   "execution_count": null,
   "metadata": {},
   "outputs": [],
   "source": [
    "df_brasil_2024.plot(\n",
    "    kind='scatter', \n",
    "    x='precipitacao', \n",
    "    y='risco_fogo',\n",
    "    ylabel='Risco de Fogo (0-1)', \n",
    "    xlabel='Precipitação (mm)', \n",
    "    title='Gráfico de Dispersão: Precipitação vs Risco de Fogo');"
   ]
  },
  {
   "cell_type": "markdown",
   "metadata": {},
   "source": [
    "**Explicação**: \n",
    "- A precipitação é um fator que influencia significativamente a redução do risco de fogo;\n",
    "- Quanto maior o nível de precipitação, menor é o risco de fogo e vice-versa;\n",
    "- Portanto, há uma correlação inversa entre o Risco de fogo e a precipitação"
   ]
  },
  {
   "cell_type": "markdown",
   "metadata": {},
   "source": [
    "### 3.5. Análise Temporal"
   ]
  },
  {
   "cell_type": "code",
   "execution_count": 29,
   "metadata": {},
   "outputs": [],
   "source": [
    "df_brasil_2024.to_csv('dados/focos_mensal_br_2024.csv', index=False)"
   ]
  },
  {
   "cell_type": "code",
   "execution_count": null,
   "metadata": {},
   "outputs": [],
   "source": [
    "# Thiago\n",
    "def Historograma_Risco_de_incendio (regiao, regiao_grafico):\n",
    "\n",
    "    # Setando o caminho do arquivo\n",
    "    path = 'dados/focos_mensal_br_2024'\n",
    "    \n",
    "    # Inicializando uma lista para armazenar os DataFrames\n",
    "    df_list = []\n",
    "    \n",
    "    # Loop para ler e combinar os dados de janeiro a junho\n",
    "    for mes_num in range(1, 7):\n",
    "        arquivo = f\"{path}{mes_num:02}.csv\"\n",
    "        \n",
    "        mes_dict = {1: 'Janeiro', 2: 'Fevereiro', 3: 'Março', 4: 'Abril', 5: 'Maio', 6: 'Junho'}\n",
    "        mes = mes_dict[mes_num]\n",
    "        \n",
    "        # Verificando se o arquivo existe\n",
    "        if os.path.exists(arquivo):\n",
    "            # Lendo o arquivo CSV para o mês selecionado\n",
    "            df_mes = pd.read_csv(arquivo)\n",
    "            \n",
    "            # Remover valores -999 da coluna 'risco_fogo'\n",
    "            df_mes = df_mes[df_mes['risco_fogo'] != -999]\n",
    "            \n",
    "            # Adicionar uma coluna de mês\n",
    "            df_mes['mes'] = mes\n",
    "            \n",
    "            # Adicionando o DataFrame à lista\n",
    "            df_list.append(df_mes)\n",
    "        else:\n",
    "            print(f\"O arquivo {arquivo} não foi encontrado.\")\n",
    "    \n",
    "    # Concatenar todos os DataFrames em um único DataFrame\n",
    "    df_brasil_2024 = pd.concat(df_list, ignore_index=True)\n",
    "    \n",
    "    # Filtrar os estados da região especificada\n",
    "    municipios = df_brasil_2024[df_brasil_2024['estado'].isin(regiao)][['risco_fogo', 'estado', 'mes']]\n",
    "    \n",
    "    # Calcular a média do risco de fogo por estado e mês\n",
    "    media_risco_estado_mes = municipios.groupby(['estado', 'mes'])['risco_fogo'].mean().reset_index()\n",
    "    \n",
    "    # Converter os valores de risco de fogo para porcentagem\n",
    "    media_risco_estado_mes['risco_fogo'] = media_risco_estado_mes['risco_fogo'].abs() * 100\n",
    "    \n",
    "    # Definir a ordem correta dos meses\n",
    "    meses_ordem = ['Janeiro', 'Fevereiro', 'Março', 'Abril', 'Maio', 'Junho']\n",
    "    media_risco_estado_mes['mes'] = pd.Categorical(media_risco_estado_mes['mes'], categories=meses_ordem, ordered=True)\n",
    "    \n",
    "    # Pivotar a tabela para facilitar a plotagem\n",
    "    pivot_table = media_risco_estado_mes.pivot(index='estado', columns='mes', values='risco_fogo')\n",
    "    \n",
    "    # Criar o gráfico de barras\n",
    "    plt.figure(figsize=(12, 6))  # Tamanho da figura\n",
    "    \n",
    "    # Criar o histograma\n",
    "    pivot_table.plot(kind='bar', ax=plt.gca(), alpha=0.8)\n",
    "    \n",
    "    # Adicionar título e rótulos aos eixos\n",
    "    plt.title(f'Comparação do Risco de Fogo por {regiao_grafico} (Janeiro a Junho)')\n",
    "    plt.xlabel('Estados')\n",
    "    plt.ylabel('Média do Risco de Fogo (%)')\n",
    "    \n",
    "    # Rotacionar os rótulos do eixo x\n",
    "    plt.xticks(rotation=45)\n",
    "    \n",
    "    # Configurar o eixo y para mostrar porcentagens\n",
    "    plt.gca().yaxis.set_major_formatter(mticker.PercentFormatter())\n",
    "    \n",
    "    # Ajustar o limite do eixo y para uma melhor visualização\n",
    "    plt.ylim(0, 100)  # limitar a 100%\n",
    "    \n",
    "    # Ajustar layout para evitar sobreposição\n",
    "    plt.tight_layout()\n",
    "    \n",
    "    # Mostrar o gráfico\n",
    "    plt.show()\n",
    "\n",
    "estados_sul = ['PARANÁ', 'SANTA CATARINA', 'RIO GRANDE DO SUL']\n",
    "estados_sudeste = ['MINAS GERAIS', 'SÃO PAULO', 'RIO DE JANEIRO', 'ESPÍRITO SANTO']\n",
    "estados_centro = ['GOIÁS', 'MATO GROSSO', 'MATO GROSSO DO SUL', 'DISTRITO FEDERAL']\n",
    "estados_norte = ['ACRE', 'AMAPÁ', 'AMAZONAS', 'PARÁ', 'RONDÔNIA', 'RORAIMA', 'TOCANTINS']\n",
    "estados_nordeste = ['ALAGOAS', 'BAHIA', 'CEARÁ', 'MARANHÃO', 'PARAÍBA', 'PERNAMBUCO', 'PIAUÍ', 'RIO GRANDE DO NORTE', 'SERGIPE']\n",
    "\n",
    "Historograma_Risco_de_incendio(estados_sul, 'Estados do Sul')\n",
    "Historograma_Risco_de_incendio(estados_sudeste, 'Estados do Sudeste')\n",
    "Historograma_Risco_de_incendio(estados_centro, 'Estados do Centro-Oeste')\n",
    "Historograma_Risco_de_incendio(estados_norte,'Estados do Norte')\n",
    "Historograma_Risco_de_incendio(estados_nordeste, 'Estados do Nordeste')"
   ]
  },
  {
   "cell_type": "markdown",
   "metadata": {},
   "source": [
    "### 3.6. Gráfico de Barras por Série Temporal Precipitação por Regiao:"
   ]
  },
  {
   "cell_type": "code",
   "execution_count": null,
   "metadata": {},
   "outputs": [],
   "source": [
    "# Alessandra\n",
    "\n",
    "# DataFrame que separa os estados em regiões\n",
    "def mapear_regioes(df):\n",
    "    # Dicionário para mapeamento de estados por região\n",
    "    regioes = {\n",
    "        'Norte': ['ACRE', 'AMAPÁ', 'AMAZONAS', 'PARÁ', 'RONDÔNIA', 'RORAIMA', 'TOCANTINS'],\n",
    "        'Nordeste': ['ALAGOAS', 'BAHIA', 'CEARÁ', 'MARANHÃO', 'PARAÍBA', 'PERNAMBUCO', 'PIAUÍ', 'RIO GRANDE DO NORTE', 'SERGIPE'],\n",
    "        'Centro-Oeste': ['GOIÁS', 'MATO GROSSO', 'MATO GROSSO DO SUL', 'DISTRITO FEDERAL'],\n",
    "        'Sudeste': ['ESPÍRITO SANTO', 'MINAS GERAIS', 'RIO DE JANEIRO', 'SÃO PAULO'],\n",
    "        'Sul': ['PARANÁ', 'RIO GRANDE DO SUL', 'SANTA CATARINA']\n",
    "    }\n",
    "\n",
    "    # Criar uma nova coluna 'regiao' baseada no estado\n",
    "    df['regiao'] = df['estado'].map(lambda estado: next((regiao for regiao, estados in regioes.items() if estado in estados), 'Desconhecida'))\n",
    "    \n",
    "    # Imprimir as regiões e seus estados mapeados\n",
    "    for regiao, estados in regioes.items():\n",
    "        print(f'Região: {regiao}')\n",
    "        print(f'Estados: {\", \".join(estados)}\\n')\n",
    "    \n",
    "    return df\n",
    "\n",
    "# Aplicar ao DataFrame principal\n",
    "df_brasil_2024 = mapear_regioes(df_brasil_2024)\n",
    "\n",
    "# Imprimir as regiões únicas\n",
    "print(df_brasil_2024['regiao'].unique())"
   ]
  },
  {
   "cell_type": "code",
   "execution_count": null,
   "metadata": {},
   "outputs": [],
   "source": [
    "import matplotlib.pyplot as plt\n",
    "\n",
    "# Converter 'data_hora_gmt' para datetime e criar coluna 'mes'\n",
    "df_brasil_2024['data_hora_gmt'] = pd.to_datetime(df_brasil_2024['data_hora_gmt'])\n",
    "df_brasil_2024['mes'] = df_brasil_2024['data_hora_gmt'].dt.month\n",
    "\n",
    "# Verifique os meses únicos\n",
    "print(df_brasil_2024['mes'].unique())\n",
    "\n",
    "# Agrupar os dados por 'região' e 'mês' e somar a precipitação\n",
    "df_agrupado = df_brasil_2024.groupby(['regiao', 'mes'])['precipitacao'].sum().unstack(fill_value=0)\n",
    "\n",
    "# Verificar o DataFrame agrupado\n",
    "print(df_agrupado)\n",
    "\n",
    "# Criar o gráfico de barras para a série temporal (por mês e por região)\n",
    "plt.figure(figsize=(15, 8))\n",
    "df_agrupado.plot(kind='bar', stacked=False, figsize=(15, 8), cmap='tab10')\n",
    "\n",
    "plt.title('Precipitação Mensal por Região', fontsize=16)\n",
    "plt.xlabel('Região', fontsize=12)\n",
    "plt.ylabel('Precipitação Total (mm)', fontsize=12)\n",
    "plt.xticks(rotation=0)\n",
    "plt.legend(title='Mês', labels=['Janeiro', 'Fevereiro', 'Março', 'Abril', 'Maio', 'Junho'])\n",
    "\n",
    "plt.tight_layout()\n",
    "plt.show()"
   ]
  },
  {
   "cell_type": "markdown",
   "metadata": {},
   "source": [
    "### 3.6.1 Número de queimadas por região Versus Precipitação (Impacto):\n",
    "\n",
    "Mostra claramente quais regiões sofreram com maiores volumes de precipitação e mais ocorrências de queimadas no período de janeiro a junho. A soma destaca o efeito cumulativo desses fenômenos, o que é crucial para entender o impacto geral na região.\n",
    "\n",
    "Extrair precipitação: Ordenar o DataFrame por precipitação e selecionar os principais valores"
   ]
  },
  {
   "cell_type": "code",
   "execution_count": 38,
   "metadata": {},
   "outputs": [],
   "source": [
    "\n",
    "precipitation_set = df_brasil_2024.sort_values(by='precipitacao', ascending=False)\n",
    "precipitacao = df_brasil_2024.groupby('regiao')['precipitacao'].sum()"
   ]
  },
  {
   "cell_type": "markdown",
   "metadata": {},
   "source": [
    "Extrair queimadas: Número de queimadas (risco_fogo):"
   ]
  },
  {
   "cell_type": "code",
   "execution_count": 39,
   "metadata": {},
   "outputs": [],
   "source": [
    "\n",
    "queimadas = df_brasil_2024.sort_values(by='risco_fogo', ascending=False)\n",
    "queimadas = df_brasil_2024.groupby('regiao')['risco_fogo'].sum()"
   ]
  },
  {
   "cell_type": "code",
   "execution_count": null,
   "metadata": {},
   "outputs": [],
   "source": [
    "import matplotlib.pyplot as plt\n",
    "import numpy as np\n",
    "\n",
    "regioes = ['Norte', 'Nordeste', 'Centro-Oeste', 'Sudeste', 'Sul']\n",
    "\n",
    "# Obtém a média de precipitação e risco de fogo por região\n",
    "precipitacao = df_brasil_2024.groupby('regiao')['precipitacao'].mean()\n",
    "queimadas = df_brasil_2024.groupby('regiao')['risco_fogo'].mean()\n",
    "\n",
    "# Gráfico combinado\n",
    "fig, ax1 = plt.subplots(figsize=(10, 6))\n",
    "\n",
    "# Gráfico de barras - Queimadas\n",
    "ax1.bar(regioes, queimadas, color='orange', alpha=0.7, label='Queimadas')\n",
    "ax1.set_xlabel('Regiões')\n",
    "ax1.set_ylabel('Número de Queimadas', color='orange')\n",
    "ax1.tick_params(axis='y', labelcolor='orange')\n",
    "\n",
    "# Eixo secundário para a linha de precipitação\n",
    "ax2 = ax1.twinx()\n",
    "ax2.plot(regioes, precipitacao, color='blue', marker='o', linewidth=2, label='Precipitação')\n",
    "ax2.set_ylabel('Precipitação (mm)', color='blue')\n",
    "ax2.tick_params(axis='y', labelcolor='blue')\n",
    "\n",
    "plt.title('Comparação entre Precipitação e Queimadas por Região')\n",
    "fig.tight_layout()\n",
    "\n",
    "plt.show()"
   ]
  },
  {
   "cell_type": "markdown",
   "metadata": {},
   "source": [
    "### 3.7. Gráfico de Barras Comparativo"
   ]
  },
  {
   "cell_type": "code",
   "execution_count": null,
   "metadata": {},
   "outputs": [],
   "source": [
    "#Diana\n",
    "\n",
    "# Configurar o estilo do Seaborn\n",
    "sns.set(style='whitegrid')\n",
    "\n",
    "# Agrupar os dados por estado\n",
    "df_comparativo = df_brasil_2024.groupby('estado').agg({\n",
    "    'numero_dias_sem_chuva': 'sum',  # Somar os dias sem chuva\n",
    "    'precipitacao': 'sum',           # Somar a precipitação acumulada\n",
    "    'risco_fogo': 'mean'             # Calcular a média do risco de fogo\n",
    "}).reset_index()\n",
    "\n",
    "# Verificar o DataFrame resultante\n",
    "print(\"DataFrame de Comparação:\", df_comparativo.head())\n",
    "print(\"\\n\")\n",
    "\n",
    "# Definir o número de estados a serem exibidos\n",
    "n_estados = min(10, len(df_comparativo))\n",
    "\n",
    "# Criar uma nova figura\n",
    "plt.figure(figsize=(12, 6))\n",
    "\n",
    "# Criar gráfico de barras\n",
    "bar_width = 0.25\n",
    "index = np.arange(n_estados)\n",
    "\n",
    "# Barras para dias sem chuva\n",
    "plt.bar(index, df_comparativo['numero_dias_sem_chuva'].head(n_estados), bar_width, label='Dias sem chuva')\n",
    "\n",
    "# Barras para precipitação acumulada\n",
    "plt.bar(index + bar_width, df_comparativo['precipitacao'].head(n_estados), bar_width, label='Precipitação acumulada')\n",
    "\n",
    "# Barras para risco de fogo\n",
    "plt.bar(index + 2 * bar_width, df_comparativo['risco_fogo'].head(n_estados), bar_width, label='Risco de fogo')\n",
    "\n",
    "# Adicionar título e rótulos\n",
    "plt.title('Comparação de Dias sem Chuva, Precipitação Acumulada e Risco de Fogo por Município')\n",
    "plt.xlabel('Estado')\n",
    "plt.ylabel('Valores')\n",
    "plt.xticks(index + bar_width, df_comparativo['estado'].head(n_estados), rotation=45)\n",
    "plt.legend()\n",
    "\n",
    "# Exibir gráfico\n",
    "plt.tight_layout()\n",
    "plt.show()"
   ]
  },
  {
   "cell_type": "markdown",
   "metadata": {},
   "source": [
    "### 3.8. Gráficos de Satélites"
   ]
  },
  {
   "cell_type": "code",
   "execution_count": null,
   "metadata": {},
   "outputs": [],
   "source": [
    "#Alessandra\n",
    "\n",
    "import matplotlib.pyplot as plt\n",
    "\n",
    "# Contar a frequência do satélite\n",
    "satelite_counts = df_brasil_2024['satelite'].value_counts()\n",
    "\n",
    "# Plotar o gráfico de barras\n",
    "plt.figure(figsize=(10, 6))\n",
    "plt.bar(satelite_counts.index, satelite_counts.values, color='orange')\n",
    "plt.title('Frequência de Satélites (GOES-16)')\n",
    "plt.ylabel('Número de Registros')\n",
    "plt.xticks(rotation=45, ha='right')\n",
    "plt.tight_layout()\n",
    "plt.show()"
   ]
  }
 ],
 "metadata": {
  "kernelspec": {
   "display_name": "Python 3",
   "language": "python",
   "name": "python3"
  },
  "language_info": {
   "codemirror_mode": {
    "name": "ipython",
    "version": 3
   },
   "file_extension": ".py",
   "mimetype": "text/x-python",
   "name": "python",
   "nbconvert_exporter": "python",
   "pygments_lexer": "ipython3",
   "version": "3.12.6"
  },
  "toc-autonumbering": false,
  "toc-showcode": true
 },
 "nbformat": 4,
 "nbformat_minor": 4
}
